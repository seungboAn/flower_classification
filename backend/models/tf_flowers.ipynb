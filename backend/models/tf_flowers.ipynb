{
 "cells": [
  {
   "cell_type": "code",
   "execution_count": 1,
   "metadata": {
    "colab": {
     "base_uri": "https://localhost:8080/"
    },
    "executionInfo": {
     "elapsed": 18129,
     "status": "ok",
     "timestamp": 1738225427413,
     "user": {
      "displayName": "이종현",
      "userId": "11047299251951934853"
     },
     "user_tz": -540
    },
    "id": "eLCIcpDQYOkB",
    "outputId": "df72557c-ecb5-4c80-8a91-eaacb90a21ec"
   },
   "outputs": [
    {
     "ename": "ModuleNotFoundError",
     "evalue": "No module named 'google.colab'",
     "output_type": "error",
     "traceback": [
      "\u001b[0;31m---------------------------------------------------------------------------\u001b[0m",
      "\u001b[0;31mModuleNotFoundError\u001b[0m                       Traceback (most recent call last)",
      "Cell \u001b[0;32mIn[1], line 1\u001b[0m\n\u001b[0;32m----> 1\u001b[0m \u001b[38;5;28;01mfrom\u001b[39;00m \u001b[38;5;21;01mgoogle\u001b[39;00m\u001b[38;5;21;01m.\u001b[39;00m\u001b[38;5;21;01mcolab\u001b[39;00m \u001b[38;5;28;01mimport\u001b[39;00m drive\n\u001b[1;32m      3\u001b[0m \u001b[38;5;66;03m# Google Drive 마운트\u001b[39;00m\n\u001b[1;32m      4\u001b[0m \u001b[38;5;28mprint\u001b[39m(\u001b[38;5;124m\"\u001b[39m\u001b[38;5;124mGoogle Drive를 마운트합니다...\u001b[39m\u001b[38;5;124m\"\u001b[39m)\n",
      "\u001b[0;31mModuleNotFoundError\u001b[0m: No module named 'google.colab'"
     ]
    }
   ],
   "source": [
    "from google.colab import drive\n",
    "\n",
    "# Google Drive 마운트\n",
    "print(\"Google Drive를 마운트합니다...\")\n",
    "drive.mount('/content/drive', force_remount=True)"
   ]
  },
  {
   "cell_type": "code",
   "execution_count": 43,
   "metadata": {
    "colab": {
     "base_uri": "https://localhost:8080/"
    },
    "executionInfo": {
     "elapsed": 351,
     "status": "ok",
     "timestamp": 1738236990298,
     "user": {
      "displayName": "이종현",
      "userId": "11047299251951934853"
     },
     "user_tz": -540
    },
    "id": "WyOcUd1tX253",
    "outputId": "4711d0bc-07b6-4009-e746-23b926f34bc0"
   },
   "outputs": [
    {
     "name": "stdout",
     "output_type": "stream",
     "text": [
      "2936\n",
      "367\n",
      "367\n"
     ]
    }
   ],
   "source": [
    "import tensorflow_datasets as tfds\n",
    "\n",
    "(raw_train, raw_validation, raw_test), metadata = tfds.load(\n",
    "    name='tf_flowers',\n",
    "    split=['train[:80%]', 'train[80%:90%]', 'train[90%:]'],\n",
    "    data_dir='assets/tf_flowers/',\n",
    "    download=False,\n",
    "    with_info=True,\n",
    "    as_supervised=True,\n",
    ")\n",
    "\n",
    "print(len(raw_train))\n",
    "print(len(raw_validation))\n",
    "print(len(raw_test))"
   ]
  },
  {
   "cell_type": "code",
   "execution_count": 44,
   "metadata": {
    "colab": {
     "base_uri": "https://localhost:8080/"
    },
    "executionInfo": {
     "elapsed": 281,
     "status": "ok",
     "timestamp": 1738236991761,
     "user": {
      "displayName": "이종현",
      "userId": "11047299251951934853"
     },
     "user_tz": -540
    },
    "id": "Rib1BaAPY9EP",
    "outputId": "c7dacbb8-5bd5-4b43-9001-1069f49e70d9"
   },
   "outputs": [
    {
     "name": "stdout",
     "output_type": "stream",
     "text": [
      "(TensorSpec(shape=(None, None, 3), dtype=tf.float32, name=None), TensorSpec(shape=(), dtype=tf.int64, name=None))\n",
      "(TensorSpec(shape=(None, None, 3), dtype=tf.float32, name=None), TensorSpec(shape=(), dtype=tf.int64, name=None))\n",
      "(TensorSpec(shape=(None, None, 3), dtype=tf.float32, name=None), TensorSpec(shape=(), dtype=tf.int64, name=None))\n"
     ]
    }
   ],
   "source": [
    "import tensorflow as tf\n",
    "\n",
    "def format_dtype(image, label):\n",
    "  image = tf.cast(image, tf.float32)\n",
    "  return image, label\n",
    "\n",
    "train = raw_train.map(format_dtype)\n",
    "validation = raw_validation.map(format_dtype)\n",
    "test = raw_test.map(format_dtype)\n",
    "\n",
    "# 채널수와 dtype 모두 확인하기\n",
    "print(train.element_spec)\n",
    "print(validation.element_spec)\n",
    "print(test.element_spec)"
   ]
  },
  {
   "cell_type": "code",
   "execution_count": 56,
   "metadata": {
    "executionInfo": {
     "elapsed": 305,
     "status": "ok",
     "timestamp": 1738236993063,
     "user": {
      "displayName": "이종현",
      "userId": "11047299251951934853"
     },
     "user_tz": -540
    },
    "id": "Q120Q12hZGce"
   },
   "outputs": [],
   "source": [
    "# 1️⃣ Min-Max Scaling (0~1 범위)\n",
    "def normalize_min_max(image):\n",
    "    return image / 255.0  # 0~1 범위로 변환\n",
    "\n",
    "# 2️⃣ Zero-Centering (-1~1 범위)\n",
    "def normalize_zero_center(image):\n",
    "    return (image / 127.5) - 1  # -1 ~ 1 범위로 변환\n",
    "\n",
    "# 3️⃣ Mean-Std Normalization (사전 학습 모델용)\n",
    "def normalize_mean_std(image):\n",
    "    imagenet_mean = [123.68, 116.78, 103.94]  # ImageNet RGB 평균 값\n",
    "    imagenet_std = [58.393, 57.12, 57.375]  # ImageNet RGB 표준 편차\n",
    "    return (image - imagenet_mean) / imagenet_std  # Z-Score 정규화"
   ]
  },
  {
   "cell_type": "code",
   "execution_count": null,
   "metadata": {
    "colab": {
     "base_uri": "https://localhost:8080/"
    },
    "collapsed": true,
    "executionInfo": {
     "elapsed": 7228,
     "status": "ok",
     "timestamp": 1738237001568,
     "user": {
      "displayName": "이종현",
      "userId": "11047299251951934853"
     },
     "user_tz": -540
    },
    "id": "nAkCI_SQZIPj",
    "outputId": "f35ed1c6-da82-4fb2-b811-d866ecc03776"
   },
   "outputs": [],
   "source": [
    "from collections import Counter\n",
    "\n",
    "# 1. 이미지 해상도 통계 파악\n",
    "def get_resolution_stats(dataset):\n",
    "    resolutions = []\n",
    "    for image, _ in dataset:\n",
    "        resolutions.append(image.shape[:2])  # (height, width)\n",
    "    resolution_counts = Counter(resolutions)\n",
    "    return resolution_counts\n",
    "\n",
    "# 2. 해상도 통계 출력 함수\n",
    "def print_resolution_stats(stats):\n",
    "    print(\"=== 해상도 통계 ===\")\n",
    "    for resolution, count in stats.items():\n",
    "        print(f\"  해상도 {resolution}: {count}개\")\n",
    "\n",
    "# 3. 데이터셋 통계 파악 및 출력\n",
    "train_res_stats = get_resolution_stats(train)\n",
    "validation_res_stats = get_resolution_stats(validation)\n",
    "test_res_stats = get_resolution_stats(test)\n",
    "\n",
    "print(\"훈련 데이터셋 해상도 통계\")\n",
    "print_resolution_stats(train_res_stats)\n",
    "\n",
    "print(\"\\n검증 데이터셋 해상도 통계\")\n",
    "print_resolution_stats(validation_res_stats)\n",
    "\n",
    "print(\"\\n테스트 데이터셋 해상도 통계\")\n",
    "print_resolution_stats(test_res_stats)\n",
    "\n",
    "# 4. 전체 데이터셋 통계 합산\n",
    "total_res_stats = train_res_stats + validation_res_stats + test_res_stats\n",
    "print(\"\\n전체 데이터셋 해상도 통계\")\n",
    "print_resolution_stats(total_res_stats)"
   ]
  },
  {
   "cell_type": "markdown",
   "metadata": {
    "id": "2WPg7Eofaelh"
   },
   "source": [
    "# 클래스 분포 확인\n"
   ]
  },
  {
   "cell_type": "code",
   "execution_count": 72,
   "metadata": {
    "colab": {
     "base_uri": "https://localhost:8080/",
     "height": 593
    },
    "executionInfo": {
     "elapsed": 1761,
     "status": "ok",
     "timestamp": 1738226858204,
     "user": {
      "displayName": "이종현",
      "userId": "11047299251951934853"
     },
     "user_tz": -540
    },
    "id": "zaAfxiUnaiIw",
    "outputId": "4520be88-f774-49f7-aeb3-1fa4075fc7c1"
   },
   "outputs": [
    {
     "name": "stdout",
     "output_type": "stream",
     "text": [
      "📊 train 클래스 분포:\n",
      "  Class 0: 557개\n",
      "  Class 1: 386개\n",
      "  Class 2: 452개\n",
      "  Class 3: 418개\n",
      "  Class 4: 389개\n"
     ]
    },
    {
     "data": {
      "image/png": "[encoded data removed]",
      "text/plain": [
       "<Figure size 800x500 with 1 Axes>"
      ]
     },
     "metadata": {
      "image/png": {
       "height": 469,
       "width": 695
      }
     },
     "output_type": "display_data"
    }
   ],
   "source": [
    "import tensorflow as tf\n",
    "import matplotlib.pyplot as plt\n",
    "from collections import Counter\n",
    "\n",
    "# 클래스 개수 카운트 함수\n",
    "def count_labels(dataset, dataset_name):\n",
    "    label_counts = Counter()\n",
    "\n",
    "    for _, label in dataset.as_numpy_iterator():  # tf.data를 numpy 변환 후 라벨만 카운트\n",
    "        label_counts[label] += 1\n",
    "\n",
    "    # 클래스별 개수 출력\n",
    "    print(f\"📊 {dataset_name} 클래스 분포:\")\n",
    "    for label, count in sorted(label_counts.items()):\n",
    "        print(f\"  Class {label}: {count}개\")\n",
    "\n",
    "    return label_counts\n",
    "\n",
    "# 데이터셋별 클래스 분포 확인\n",
    "train_aug_counts = count_labels(train, \"train\")\n",
    "# train_min_max_counts = count_labels(train_min_max_resize, \"train_min_max_resize\")\n",
    "\n",
    "# 📊 시각화\n",
    "def plot_class_distribution(label_counts, title):\n",
    "    labels = list(label_counts.keys())\n",
    "    counts = list(label_counts.values())\n",
    "\n",
    "    plt.figure(figsize=(8, 5))\n",
    "    plt.bar(labels, counts, color='skyblue')\n",
    "    plt.xlabel(\"Class Label\")\n",
    "    plt.ylabel(\"Count\")\n",
    "    plt.title(title)\n",
    "    plt.xticks(labels)\n",
    "    plt.show()\n",
    "\n",
    "# 🔥 클래스 분포 그래프 출력\n",
    "plot_class_distribution(train_aug_counts, \"train_aug_resize_zero_center Class Distribution\")\n",
    "# plot_class_distribution(train_min_max_counts, \"train_min_max_resize Class Distribution\")"
   ]
  },
  {
   "cell_type": "code",
   "execution_count": 57,
   "metadata": {
    "executionInfo": {
     "elapsed": 3,
     "status": "ok",
     "timestamp": 1738237002329,
     "user": {
      "displayName": "이종현",
      "userId": "11047299251951934853"
     },
     "user_tz": -540
    },
    "id": "yx3lXUfQZXmm"
   },
   "outputs": [],
   "source": [
    "IMG_SIZE = 224\n",
    "\n",
    "def resize_with_pad(image, label, target_size=(IMG_SIZE, IMG_SIZE)):\n",
    "    image = tf.image.resize_with_pad(image, target_size[0], target_size[1])\n",
    "    return image, label\n",
    "\n",
    "def resize_image(image, label, target_size=(IMG_SIZE, IMG_SIZE)):\n",
    "    image = tf.image.resize(image, target_size)\n",
    "    return image, label"
   ]
  },
  {
   "cell_type": "code",
   "execution_count": 58,
   "metadata": {
    "executionInfo": {
     "elapsed": 282,
     "status": "ok",
     "timestamp": 1738226865625,
     "user": {
      "displayName": "이종현",
      "userId": "11047299251951934853"
     },
     "user_tz": -540
    },
    "id": "COMlMLWtZj4O"
   },
   "outputs": [],
   "source": [
    "import tensorflow as tf\n",
    "\n",
    "def augment_random(image, label):\n",
    "    # 1️⃣ 좌우 반전 (50% 확률)\n",
    "    if tf.random.uniform(()) < 0.5:\n",
    "        image = tf.image.random_flip_left_right(image)\n",
    "\n",
    "    # 2️⃣ 랜덤 회전 (90도 단위)\n",
    "    if tf.random.uniform(()) < 0.5:\n",
    "        k = tf.random.uniform([], minval=0, maxval=4, dtype=tf.int32)\n",
    "        image = tf.image.rot90(image, k=k)\n",
    "\n",
    "    # 3️⃣ 랜덤 밝기 조절 (최대 ±20%, 50% 확률)\n",
    "    if tf.random.uniform(()) < 0.5:\n",
    "        image = tf.image.random_brightness(image, max_delta=0.2)\n",
    "\n",
    "    # 4️⃣ 랜덤 대비 조절 (90% ~ 110%, 50% 확률)\n",
    "    if tf.random.uniform(()) < 0.5:\n",
    "        image = tf.image.random_contrast(image, lower=0.9, upper=1.1)\n",
    "\n",
    "    # 5️⃣ 랜덤 줌 (90% ~ 110%, 50% 확률)\n",
    "    if tf.random.uniform(()) < 0.5:\n",
    "        zoom_factor = tf.random.uniform([], minval=0.9, maxval=1.1)\n",
    "\n",
    "        # tf.shape(image)[0]과 [1]을 float32로 변환\n",
    "        height = tf.cast(tf.cast(tf.shape(image)[0], tf.float32) * zoom_factor, tf.int32)\n",
    "        width = tf.cast(tf.cast(tf.shape(image)[1], tf.float32) * zoom_factor, tf.int32)\n",
    "\n",
    "        image = tf.image.resize_with_crop_or_pad(image, height, width)\n",
    "        image = tf.image.resize(image, (224, 224))  # 원래 크기로 복구\n",
    "\n",
    "    return image, label"
   ]
  },
  {
   "cell_type": "code",
   "execution_count": 59,
   "metadata": {
    "executionInfo": {
     "elapsed": 398,
     "status": "ok",
     "timestamp": 1738226868394,
     "user": {
      "displayName": "이종현",
      "userId": "11047299251951934853"
     },
     "user_tz": -540
    },
    "id": "OX0DBoYkZnK0"
   },
   "outputs": [],
   "source": [
    "# 원본 + 증강 데이터셋 3배 크기로 확장\n",
    "def expand_dataset(original, augmented):\n",
    "    return original.concatenate(augmented.repeat(2))  # 원본 + 증강된 데이터 2배 추가 = 총 3배 크기"
   ]
  },
  {
   "cell_type": "markdown",
   "metadata": {
    "id": "xTAc5--naZix"
   },
   "source": []
  },
  {
   "cell_type": "markdown",
   "metadata": {
    "id": "qdP0Dzc2Z7dY"
   },
   "source": [
    "# 데이터셋 준비 및 시각화로 확인\n"
   ]
  },
  {
   "cell_type": "code",
   "execution_count": 70,
   "metadata": {
    "executionInfo": {
     "elapsed": 5149,
     "status": "ok",
     "timestamp": 1738234150949,
     "user": {
      "displayName": "이종현",
      "userId": "11047299251951934853"
     },
     "user_tz": -540
    },
    "id": "o54ac4CoZp0p"
   },
   "outputs": [],
   "source": [
    "# 1. 리사이즈만 한 데이터\n",
    "train_resize_only = train.map(resize_image)\n",
    "validation_resize_only = validation.map(resize_image)\n",
    "test_resize_only = test.map(resize_image)\n",
    "\n",
    "# 2. 리사이즈 -> 정규화 (Min-Max Scaling)\n",
    "train_resize_min_max = train.map(resize_image).map(lambda x, y: (normalize_min_max(x), y))\n",
    "validation_resize_min_max = validation.map(resize_image).map(lambda x, y: (normalize_min_max(x), y))\n",
    "test_resize_min_max = test.map(resize_image).map(lambda x, y: (normalize_min_max(x), y))\n",
    "\n",
    "# 3. 정규화 (Min-Max Scaling) -> 리사이즈\n",
    "train_min_max_resize = train.map(lambda x, y: (normalize_min_max(x), y)).map(resize_image)\n",
    "validation_min_max_resize = validation.map(lambda x, y: (normalize_min_max(x), y)).map(resize_image)\n",
    "test_min_max_resize = test.map(lambda x, y: (normalize_min_max(x), y)).map(resize_image)\n",
    "\n",
    "# 4. 정규화 (Zero-Centering) -> 리사이즈\n",
    "train_zero_center_resize = train.map(lambda x, y: (normalize_zero_center(x), y)).map(resize_image)\n",
    "validation_zero_center_resize = validation.map(lambda x, y: (normalize_zero_center(x), y)).map(resize_image)\n",
    "test_zero_center_resize = test.map(lambda x, y: (normalize_zero_center(x), y)).map(resize_image)\n",
    "\n",
    "# 5. 정규화 (Zero-Centering) -> 리사이즈 (패딩)\n",
    "train_zero_center_resize_with_pad = train.map(lambda x, y: (normalize_zero_center(x), y)).map(resize_with_pad)\n",
    "validation_zero_center_resize_with_pad = validation.map(lambda x, y: (normalize_zero_center(x), y)).map(resize_with_pad)\n",
    "test_zero_center_resize_with_pad = test.map(lambda x, y: (normalize_zero_center(x), y)).map(resize_with_pad)\n",
    "\n",
    "# 6. 증강 → 리사이즈 → 정규화 (Min-Max Scaling)\n",
    "train_aug_resize_min_max = expand_dataset(\n",
    "    train.map(resize_image).map(lambda x, y: (normalize_min_max(x), y)),\n",
    "    train.map(augment_random).map(resize_image).map(lambda x, y: (normalize_min_max(x), y))\n",
    ")\n",
    "validation_aug_resize_min_max = validation.map(resize_image).map(lambda x, y: (normalize_min_max(x), y))\n",
    "test_aug_resize_min_max = test.map(resize_image).map(lambda x, y: (normalize_min_max(x), y))\n",
    "\n",
    "# 7. 증강 → 리사이즈 → 정규화 (Zero-Centering)\n",
    "train_aug_resize_zero_center = expand_dataset(\n",
    "    train.map(resize_image).map(lambda x, y: (normalize_zero_center(x), y)),\n",
    "    train.map(augment_random).map(resize_image).map(lambda x, y: (normalize_zero_center(x), y))\n",
    ")\n",
    "validation_aug_resize_zero_center = validation.map(resize_image).map(lambda x, y: (normalize_zero_center(x), y))\n",
    "test_aug_resize_zero_center = test.map(resize_image).map(lambda x, y: (normalize_zero_center(x), y))\n",
    "\n",
    "# 8. 증강 -> 정규화 (Min-Max) -> 리사이즈\n",
    "train_aug_min_max_resize = expand_dataset(\n",
    "    train.map(lambda x, y: (normalize_min_max(x), y)).map(resize_image),\n",
    "    train.map(augment_random).map(lambda x, y: (normalize_min_max(x), y)).map(resize_image)\n",
    ")\n",
    "validation_aug_min_max_resize = validation.map(lambda x, y: (normalize_min_max(x), y)).map(resize_image)\n",
    "test_aug_min_max_resize = test.map(lambda x, y: (normalize_min_max(x), y)).map(resize_image)\n",
    "\n",
    "# 9. 정규화 (Zero-Centering) -> 증강 -> 리사이즈\n",
    "train_zero_center_aug_resize = expand_dataset(\n",
    "    train.map(lambda x, y: (normalize_zero_center(x), y)).map(resize_image),\n",
    "    train.map(lambda x, y: (normalize_zero_center(x), y)).map(augment_random).map(resize_image)\n",
    ")\n",
    "validation_zero_center_aug_resize = validation.map(lambda x, y: (normalize_zero_center(x), y)).map(resize_image)\n",
    "test_zero_center_aug_resize = test.map(lambda x, y: (normalize_zero_center(x), y)).map(resize_image)\n",
    "\n",
    "# 10. 정규화 (Min-Max) -> 증강 -> 리사이즈\n",
    "train_min_max_aug_resize = expand_dataset(\n",
    "    train.map(lambda x, y: (normalize_min_max(x), y)).map(resize_image),\n",
    "    train.map(lambda x, y: (normalize_min_max(x), y)).map(augment_random).map(resize_image)\n",
    ")\n",
    "validation_min_max_aug_resize = validation.map(lambda x, y: (normalize_min_max(x), y)).map(resize_image)\n",
    "test_min_max_aug_resize = test.map(lambda x, y: (normalize_min_max(x), y)).map(resize_image)\n",
    "\n",
    "# 11. 증강 → 리사이즈 → 정규화 (Zero-Centering)\n",
    "train_aug_resize_min_max = expand_dataset(\n",
    "    train.map(resize_image).map(lambda x, y: (normalize_min_max(x), y)),\n",
    "    train.map(augment_random).map(resize_image).map(lambda x, y: (normalize_min_max(x), y))\n",
    ")\n",
    "validation_aug_resize_min_max = validation.map(resize_image).map(lambda x, y: (normalize_min_max(x), y))\n",
    "test_aug_resize_min_max = test.map(resize_image).map(lambda x, y: (normalize_min_max(x), y))\n",
    "\n",
    "# 12. 증강 -> 리사이즈\n",
    "train_aug_resize = expand_dataset(\n",
    "    train.map(resize_image),\n",
    "    train.map(augment_random).map(resize_image)\n",
    ")\n",
    "validation_aug_resize = validation.map(resize_image)\n",
    "test_aug_resize = test.map(resize_image)\n",
    "\n",
    "# 13. 증강 -> 리사이즈\n",
    "train_aug_resize_with_pad = expand_dataset(\n",
    "    train.map(resize_image),\n",
    "    train.map(augment_random).map(resize_with_pad)\n",
    ")\n",
    "validation_aug_resize_with_pad = validation.map(resize_with_pad)\n",
    "test_aug_resize_with_pad = test.map(resize_with_pad)"
   ]
  },
  {
   "cell_type": "code",
   "execution_count": 71,
   "metadata": {
    "executionInfo": {
     "elapsed": 277,
     "status": "ok",
     "timestamp": 1738237006276,
     "user": {
      "displayName": "이종현",
      "userId": "11047299251951934853"
     },
     "user_tz": -540
    },
    "id": "N0mP6GLJb1Xx"
   },
   "outputs": [],
   "source": [
    "MODEL_TRAIN = train_aug_resize\n",
    "MODEL_VALIDATION = validation_aug_resize\n",
    "MODEL_TEST = test_aug_resize"
   ]
  },
  {
   "cell_type": "code",
   "execution_count": 229,
   "metadata": {
    "colab": {
     "base_uri": "https://localhost:8080/",
     "height": 828,
     "output_embedded_package_id": "1LGdnaMvBZeBio6PZwe1gbAyWYWHdmq9h"
    },
    "executionInfo": {
     "elapsed": 7584,
     "status": "ok",
     "timestamp": 1738230892545,
     "user": {
      "displayName": "이종현",
      "userId": "11047299251951934853"
     },
     "user_tz": -540
    },
    "id": "S0hYU4N8aCjb",
    "outputId": "4232fcc6-adf5-45c1-c0fa-23bb14c641f4"
   },
   "outputs": [
    {
     "data": {
      "text/plain": [
       "Output hidden; open in https://colab.research.google.com to view."
      ]
     },
     "metadata": {},
     "output_type": "display_data"
    }
   ],
   "source": [
    "import tensorflow as tf\n",
    "import matplotlib.pyplot as plt\n",
    "# 별도의 팝업창으로 열지 않고 바로 노트북 파일에 노출\n",
    "# %matplotlib inline 하지만 없어도 그냥 잘됨.. (현재로서는)\n",
    "# 해상도 향상 하기\n",
    "%config InlineBackend.figure_format = 'retina'\n",
    "\n",
    "plt.figure(figsize=(20, 10))\n",
    "\n",
    "get_label_name = metadata.features['label'].int2str\n",
    "\n",
    "# 비정규화 함수\n",
    "def denormalize_image(image, norm_type=\"min_max\"):\n",
    "    if norm_type == \"min_max\":  # Min-Max Scaling (0~1 범위)\n",
    "        return (image * 255.0).numpy().astype(\"uint8\")\n",
    "    elif norm_type == \"zero_center\":  # Zero-Centering (-1~1 범위)\n",
    "        # return ((image + 1) * 127.5).numpy().astype(\"uint8\")\n",
    "        return (image + 1) / 2\n",
    "    elif norm_type == \"mean_std\":  # Mean-Std Normalization\n",
    "        imagenet_mean = [123.68, 116.78, 103.94]\n",
    "        imagenet_std = [58.393, 57.12, 57.375]\n",
    "        return ((image * imagenet_std) + imagenet_mean).numpy().astype(\"uint8\")\n",
    "    else:\n",
    "        raise ValueError(\"Unsupported normalization type\")\n",
    "\n",
    "for idx, (image, label) in enumerate(MODEL_TRAIN.take(20)):  # 10개의 데이터를 가져 옵니다.\n",
    "    plt.subplot(4, 5, idx+1)\n",
    "\n",
    "    # 정규화 해제 (0~1 범위로 변환)\n",
    "    # image = (image + 1) / 2\n",
    "    image = denormalize_image(image, norm_type=\"min_max\")\n",
    "\n",
    "    plt.imshow(image)\n",
    "    plt.title(f'label {label}: {get_label_name(label)}')\n",
    "    plt.axis('off')\n",
    "\n",
    "plt.show()"
   ]
  },
  {
   "cell_type": "markdown",
   "metadata": {
    "id": "CQ7WNc1XZu8v"
   },
   "source": [
    "# 모델\n"
   ]
  },
  {
   "cell_type": "code",
   "execution_count": 72,
   "metadata": {
    "executionInfo": {
     "elapsed": 254,
     "status": "ok",
     "timestamp": 1738234152467,
     "user": {
      "displayName": "이종현",
      "userId": "11047299251951934853"
     },
     "user_tz": -540
    },
    "id": "tIc8sW6XZ03Z"
   },
   "outputs": [],
   "source": [
    "from tensorflow.keras.models import Sequential\n",
    "from tensorflow.keras.layers import Dense, Conv2D, Flatten, MaxPooling2D, Dropout, BatchNormalization\n",
    "from tensorflow.keras.metrics import Precision, Recall\n",
    "from tensorflow.keras.callbacks import EarlyStopping"
   ]
  },
  {
   "cell_type": "code",
   "execution_count": 231,
   "metadata": {
    "colab": {
     "base_uri": "https://localhost:8080/",
     "height": 463
    },
    "executionInfo": {
     "elapsed": 3,
     "status": "ok",
     "timestamp": 1738230892545,
     "user": {
      "displayName": "이종현",
      "userId": "11047299251951934853"
     },
     "user_tz": -540
    },
    "id": "RiC2_kMga0aT",
    "outputId": "b298ce63-419e-432a-8af7-abb39acc0ba8"
   },
   "outputs": [
    {
     "data": {
      "text/html": [
       "<pre style=\"white-space:pre;overflow-x:auto;line-height:normal;font-family:Menlo,'DejaVu Sans Mono',consolas,'Courier New',monospace\"><span style=\"font-weight: bold\">Model: \"sequential_16\"</span>\n",
       "</pre>\n"
      ],
      "text/plain": [
       "\u001b[1mModel: \"sequential_16\"\u001b[0m\n"
      ]
     },
     "metadata": {},
     "output_type": "display_data"
    },
    {
     "data": {
      "text/html": [
       "<pre style=\"white-space:pre;overflow-x:auto;line-height:normal;font-family:Menlo,'DejaVu Sans Mono',consolas,'Courier New',monospace\">┏━━━━━━━━━━━━━━━━━━━━━━━━━━━━━━━━━━━━━━┳━━━━━━━━━━━━━━━━━━━━━━━━━━━━━┳━━━━━━━━━━━━━━━━━┓\n",
       "┃<span style=\"font-weight: bold\"> Layer (type)                         </span>┃<span style=\"font-weight: bold\"> Output Shape                </span>┃<span style=\"font-weight: bold\">         Param # </span>┃\n",
       "┡━━━━━━━━━━━━━━━━━━━━━━━━━━━━━━━━━━━━━━╇━━━━━━━━━━━━━━━━━━━━━━━━━━━━━╇━━━━━━━━━━━━━━━━━┩\n",
       "│ conv2d_49 (<span style=\"color: #0087ff; text-decoration-color: #0087ff\">Conv2D</span>)                   │ (<span style=\"color: #00d7ff; text-decoration-color: #00d7ff\">None</span>, <span style=\"color: #00af00; text-decoration-color: #00af00\">224</span>, <span style=\"color: #00af00; text-decoration-color: #00af00\">224</span>, <span style=\"color: #00af00; text-decoration-color: #00af00\">32</span>)        │             <span style=\"color: #00af00; text-decoration-color: #00af00\">896</span> │\n",
       "├──────────────────────────────────────┼─────────────────────────────┼─────────────────┤\n",
       "│ max_pooling2d_48 (<span style=\"color: #0087ff; text-decoration-color: #0087ff\">MaxPooling2D</span>)      │ (<span style=\"color: #00d7ff; text-decoration-color: #00d7ff\">None</span>, <span style=\"color: #00af00; text-decoration-color: #00af00\">112</span>, <span style=\"color: #00af00; text-decoration-color: #00af00\">112</span>, <span style=\"color: #00af00; text-decoration-color: #00af00\">32</span>)        │               <span style=\"color: #00af00; text-decoration-color: #00af00\">0</span> │\n",
       "├──────────────────────────────────────┼─────────────────────────────┼─────────────────┤\n",
       "│ conv2d_50 (<span style=\"color: #0087ff; text-decoration-color: #0087ff\">Conv2D</span>)                   │ (<span style=\"color: #00d7ff; text-decoration-color: #00d7ff\">None</span>, <span style=\"color: #00af00; text-decoration-color: #00af00\">112</span>, <span style=\"color: #00af00; text-decoration-color: #00af00\">112</span>, <span style=\"color: #00af00; text-decoration-color: #00af00\">64</span>)        │          <span style=\"color: #00af00; text-decoration-color: #00af00\">18,496</span> │\n",
       "├──────────────────────────────────────┼─────────────────────────────┼─────────────────┤\n",
       "│ max_pooling2d_49 (<span style=\"color: #0087ff; text-decoration-color: #0087ff\">MaxPooling2D</span>)      │ (<span style=\"color: #00d7ff; text-decoration-color: #00d7ff\">None</span>, <span style=\"color: #00af00; text-decoration-color: #00af00\">56</span>, <span style=\"color: #00af00; text-decoration-color: #00af00\">56</span>, <span style=\"color: #00af00; text-decoration-color: #00af00\">64</span>)          │               <span style=\"color: #00af00; text-decoration-color: #00af00\">0</span> │\n",
       "├──────────────────────────────────────┼─────────────────────────────┼─────────────────┤\n",
       "│ conv2d_51 (<span style=\"color: #0087ff; text-decoration-color: #0087ff\">Conv2D</span>)                   │ (<span style=\"color: #00d7ff; text-decoration-color: #00d7ff\">None</span>, <span style=\"color: #00af00; text-decoration-color: #00af00\">56</span>, <span style=\"color: #00af00; text-decoration-color: #00af00\">56</span>, <span style=\"color: #00af00; text-decoration-color: #00af00\">128</span>)         │          <span style=\"color: #00af00; text-decoration-color: #00af00\">73,856</span> │\n",
       "├──────────────────────────────────────┼─────────────────────────────┼─────────────────┤\n",
       "│ max_pooling2d_50 (<span style=\"color: #0087ff; text-decoration-color: #0087ff\">MaxPooling2D</span>)      │ (<span style=\"color: #00d7ff; text-decoration-color: #00d7ff\">None</span>, <span style=\"color: #00af00; text-decoration-color: #00af00\">28</span>, <span style=\"color: #00af00; text-decoration-color: #00af00\">28</span>, <span style=\"color: #00af00; text-decoration-color: #00af00\">128</span>)         │               <span style=\"color: #00af00; text-decoration-color: #00af00\">0</span> │\n",
       "├──────────────────────────────────────┼─────────────────────────────┼─────────────────┤\n",
       "│ flatten_16 (<span style=\"color: #0087ff; text-decoration-color: #0087ff\">Flatten</span>)                 │ (<span style=\"color: #00d7ff; text-decoration-color: #00d7ff\">None</span>, <span style=\"color: #00af00; text-decoration-color: #00af00\">100352</span>)              │               <span style=\"color: #00af00; text-decoration-color: #00af00\">0</span> │\n",
       "├──────────────────────────────────────┼─────────────────────────────┼─────────────────┤\n",
       "│ dense_32 (<span style=\"color: #0087ff; text-decoration-color: #0087ff\">Dense</span>)                     │ (<span style=\"color: #00d7ff; text-decoration-color: #00d7ff\">None</span>, <span style=\"color: #00af00; text-decoration-color: #00af00\">512</span>)                 │      <span style=\"color: #00af00; text-decoration-color: #00af00\">51,380,736</span> │\n",
       "├──────────────────────────────────────┼─────────────────────────────┼─────────────────┤\n",
       "│ dropout_16 (<span style=\"color: #0087ff; text-decoration-color: #0087ff\">Dropout</span>)                 │ (<span style=\"color: #00d7ff; text-decoration-color: #00d7ff\">None</span>, <span style=\"color: #00af00; text-decoration-color: #00af00\">512</span>)                 │               <span style=\"color: #00af00; text-decoration-color: #00af00\">0</span> │\n",
       "├──────────────────────────────────────┼─────────────────────────────┼─────────────────┤\n",
       "│ dense_33 (<span style=\"color: #0087ff; text-decoration-color: #0087ff\">Dense</span>)                     │ (<span style=\"color: #00d7ff; text-decoration-color: #00d7ff\">None</span>, <span style=\"color: #00af00; text-decoration-color: #00af00\">5</span>)                   │           <span style=\"color: #00af00; text-decoration-color: #00af00\">2,565</span> │\n",
       "└──────────────────────────────────────┴─────────────────────────────┴─────────────────┘\n",
       "</pre>\n"
      ],
      "text/plain": [
       "┏━━━━━━━━━━━━━━━━━━━━━━━━━━━━━━━━━━━━━━┳━━━━━━━━━━━━━━━━━━━━━━━━━━━━━┳━━━━━━━━━━━━━━━━━┓\n",
       "┃\u001b[1m \u001b[0m\u001b[1mLayer (type)                        \u001b[0m\u001b[1m \u001b[0m┃\u001b[1m \u001b[0m\u001b[1mOutput Shape               \u001b[0m\u001b[1m \u001b[0m┃\u001b[1m \u001b[0m\u001b[1m        Param #\u001b[0m\u001b[1m \u001b[0m┃\n",
       "┡━━━━━━━━━━━━━━━━━━━━━━━━━━━━━━━━━━━━━━╇━━━━━━━━━━━━━━━━━━━━━━━━━━━━━╇━━━━━━━━━━━━━━━━━┩\n",
       "│ conv2d_49 (\u001b[38;5;33mConv2D\u001b[0m)                   │ (\u001b[38;5;45mNone\u001b[0m, \u001b[38;5;34m224\u001b[0m, \u001b[38;5;34m224\u001b[0m, \u001b[38;5;34m32\u001b[0m)        │             \u001b[38;5;34m896\u001b[0m │\n",
       "├──────────────────────────────────────┼─────────────────────────────┼─────────────────┤\n",
       "│ max_pooling2d_48 (\u001b[38;5;33mMaxPooling2D\u001b[0m)      │ (\u001b[38;5;45mNone\u001b[0m, \u001b[38;5;34m112\u001b[0m, \u001b[38;5;34m112\u001b[0m, \u001b[38;5;34m32\u001b[0m)        │               \u001b[38;5;34m0\u001b[0m │\n",
       "├──────────────────────────────────────┼─────────────────────────────┼─────────────────┤\n",
       "│ conv2d_50 (\u001b[38;5;33mConv2D\u001b[0m)                   │ (\u001b[38;5;45mNone\u001b[0m, \u001b[38;5;34m112\u001b[0m, \u001b[38;5;34m112\u001b[0m, \u001b[38;5;34m64\u001b[0m)        │          \u001b[38;5;34m18,496\u001b[0m │\n",
       "├──────────────────────────────────────┼─────────────────────────────┼─────────────────┤\n",
       "│ max_pooling2d_49 (\u001b[38;5;33mMaxPooling2D\u001b[0m)      │ (\u001b[38;5;45mNone\u001b[0m, \u001b[38;5;34m56\u001b[0m, \u001b[38;5;34m56\u001b[0m, \u001b[38;5;34m64\u001b[0m)          │               \u001b[38;5;34m0\u001b[0m │\n",
       "├──────────────────────────────────────┼─────────────────────────────┼─────────────────┤\n",
       "│ conv2d_51 (\u001b[38;5;33mConv2D\u001b[0m)                   │ (\u001b[38;5;45mNone\u001b[0m, \u001b[38;5;34m56\u001b[0m, \u001b[38;5;34m56\u001b[0m, \u001b[38;5;34m128\u001b[0m)         │          \u001b[38;5;34m73,856\u001b[0m │\n",
       "├──────────────────────────────────────┼─────────────────────────────┼─────────────────┤\n",
       "│ max_pooling2d_50 (\u001b[38;5;33mMaxPooling2D\u001b[0m)      │ (\u001b[38;5;45mNone\u001b[0m, \u001b[38;5;34m28\u001b[0m, \u001b[38;5;34m28\u001b[0m, \u001b[38;5;34m128\u001b[0m)         │               \u001b[38;5;34m0\u001b[0m │\n",
       "├──────────────────────────────────────┼─────────────────────────────┼─────────────────┤\n",
       "│ flatten_16 (\u001b[38;5;33mFlatten\u001b[0m)                 │ (\u001b[38;5;45mNone\u001b[0m, \u001b[38;5;34m100352\u001b[0m)              │               \u001b[38;5;34m0\u001b[0m │\n",
       "├──────────────────────────────────────┼─────────────────────────────┼─────────────────┤\n",
       "│ dense_32 (\u001b[38;5;33mDense\u001b[0m)                     │ (\u001b[38;5;45mNone\u001b[0m, \u001b[38;5;34m512\u001b[0m)                 │      \u001b[38;5;34m51,380,736\u001b[0m │\n",
       "├──────────────────────────────────────┼─────────────────────────────┼─────────────────┤\n",
       "│ dropout_16 (\u001b[38;5;33mDropout\u001b[0m)                 │ (\u001b[38;5;45mNone\u001b[0m, \u001b[38;5;34m512\u001b[0m)                 │               \u001b[38;5;34m0\u001b[0m │\n",
       "├──────────────────────────────────────┼─────────────────────────────┼─────────────────┤\n",
       "│ dense_33 (\u001b[38;5;33mDense\u001b[0m)                     │ (\u001b[38;5;45mNone\u001b[0m, \u001b[38;5;34m5\u001b[0m)                   │           \u001b[38;5;34m2,565\u001b[0m │\n",
       "└──────────────────────────────────────┴─────────────────────────────┴─────────────────┘\n"
      ]
     },
     "metadata": {},
     "output_type": "display_data"
    },
    {
     "data": {
      "text/html": [
       "<pre style=\"white-space:pre;overflow-x:auto;line-height:normal;font-family:Menlo,'DejaVu Sans Mono',consolas,'Courier New',monospace\"><span style=\"font-weight: bold\"> Total params: </span><span style=\"color: #00af00; text-decoration-color: #00af00\">51,476,549</span> (196.37 MB)\n",
       "</pre>\n"
      ],
      "text/plain": [
       "\u001b[1m Total params: \u001b[0m\u001b[38;5;34m51,476,549\u001b[0m (196.37 MB)\n"
      ]
     },
     "metadata": {},
     "output_type": "display_data"
    },
    {
     "data": {
      "text/html": [
       "<pre style=\"white-space:pre;overflow-x:auto;line-height:normal;font-family:Menlo,'DejaVu Sans Mono',consolas,'Courier New',monospace\"><span style=\"font-weight: bold\"> Trainable params: </span><span style=\"color: #00af00; text-decoration-color: #00af00\">51,476,549</span> (196.37 MB)\n",
       "</pre>\n"
      ],
      "text/plain": [
       "\u001b[1m Trainable params: \u001b[0m\u001b[38;5;34m51,476,549\u001b[0m (196.37 MB)\n"
      ]
     },
     "metadata": {},
     "output_type": "display_data"
    },
    {
     "data": {
      "text/html": [
       "<pre style=\"white-space:pre;overflow-x:auto;line-height:normal;font-family:Menlo,'DejaVu Sans Mono',consolas,'Courier New',monospace\"><span style=\"font-weight: bold\"> Non-trainable params: </span><span style=\"color: #00af00; text-decoration-color: #00af00\">0</span> (0.00 B)\n",
       "</pre>\n"
      ],
      "text/plain": [
       "\u001b[1m Non-trainable params: \u001b[0m\u001b[38;5;34m0\u001b[0m (0.00 B)\n"
      ]
     },
     "metadata": {},
     "output_type": "display_data"
    }
   ],
   "source": [
    "model = Sequential([\n",
    "    Conv2D(filters=32, kernel_size=3, padding='same', activation='relu', input_shape=(224, 224, 3)),\n",
    "    MaxPooling2D(pool_size=2),\n",
    "    Conv2D(filters=64, kernel_size=3, padding='same', activation='relu'),\n",
    "    MaxPooling2D(pool_size=2),\n",
    "    Conv2D(filters=128, kernel_size=3, padding='same', activation='relu'),\n",
    "    MaxPooling2D(pool_size=2),\n",
    "    Flatten(),\n",
    "    Dense(units=512, activation='relu'),\n",
    "    Dropout(0.5),\n",
    "    Dense(units=5, activation='softmax')\n",
    "])\n",
    "\n",
    "model.summary()"
   ]
  },
  {
   "cell_type": "code",
   "execution_count": 325,
   "metadata": {
    "colab": {
     "base_uri": "https://localhost:8080/",
     "height": 314
    },
    "executionInfo": {
     "elapsed": 1731,
     "status": "ok",
     "timestamp": 1738236341662,
     "user": {
      "displayName": "이종현",
      "userId": "11047299251951934853"
     },
     "user_tz": -540
    },
    "id": "8SdntsBircQ0",
    "outputId": "47e3da58-9064-469e-ccc9-f06115437413"
   },
   "outputs": [
    {
     "data": {
      "text/html": [
       "<pre style=\"white-space:pre;overflow-x:auto;line-height:normal;font-family:Menlo,'DejaVu Sans Mono',consolas,'Courier New',monospace\"><span style=\"font-weight: bold\">Model: \"sequential_25\"</span>\n",
       "</pre>\n"
      ],
      "text/plain": [
       "\u001b[1mModel: \"sequential_25\"\u001b[0m\n"
      ]
     },
     "metadata": {},
     "output_type": "display_data"
    },
    {
     "data": {
      "text/html": [
       "<pre style=\"white-space:pre;overflow-x:auto;line-height:normal;font-family:Menlo,'DejaVu Sans Mono',consolas,'Courier New',monospace\">┏━━━━━━━━━━━━━━━━━━━━━━━━━━━━━━━━━━━━━━┳━━━━━━━━━━━━━━━━━━━━━━━━━━━━━┳━━━━━━━━━━━━━━━━━┓\n",
       "┃<span style=\"font-weight: bold\"> Layer (type)                         </span>┃<span style=\"font-weight: bold\"> Output Shape                </span>┃<span style=\"font-weight: bold\">         Param # </span>┃\n",
       "┡━━━━━━━━━━━━━━━━━━━━━━━━━━━━━━━━━━━━━━╇━━━━━━━━━━━━━━━━━━━━━━━━━━━━━╇━━━━━━━━━━━━━━━━━┩\n",
       "│ resnet50 (<span style=\"color: #0087ff; text-decoration-color: #0087ff\">Functional</span>)                │ (<span style=\"color: #00d7ff; text-decoration-color: #00d7ff\">None</span>, <span style=\"color: #00af00; text-decoration-color: #00af00\">7</span>, <span style=\"color: #00af00; text-decoration-color: #00af00\">7</span>, <span style=\"color: #00af00; text-decoration-color: #00af00\">2048</span>)          │      <span style=\"color: #00af00; text-decoration-color: #00af00\">23,587,712</span> │\n",
       "├──────────────────────────────────────┼─────────────────────────────┼─────────────────┤\n",
       "│ global_average_pooling2d_9           │ (<span style=\"color: #00d7ff; text-decoration-color: #00d7ff\">None</span>, <span style=\"color: #00af00; text-decoration-color: #00af00\">2048</span>)                │               <span style=\"color: #00af00; text-decoration-color: #00af00\">0</span> │\n",
       "│ (<span style=\"color: #0087ff; text-decoration-color: #0087ff\">GlobalAveragePooling2D</span>)             │                             │                 │\n",
       "├──────────────────────────────────────┼─────────────────────────────┼─────────────────┤\n",
       "│ dense_50 (<span style=\"color: #0087ff; text-decoration-color: #0087ff\">Dense</span>)                     │ (<span style=\"color: #00d7ff; text-decoration-color: #00d7ff\">None</span>, <span style=\"color: #00af00; text-decoration-color: #00af00\">512</span>)                 │       <span style=\"color: #00af00; text-decoration-color: #00af00\">1,049,088</span> │\n",
       "├──────────────────────────────────────┼─────────────────────────────┼─────────────────┤\n",
       "│ dropout_25 (<span style=\"color: #0087ff; text-decoration-color: #0087ff\">Dropout</span>)                 │ (<span style=\"color: #00d7ff; text-decoration-color: #00d7ff\">None</span>, <span style=\"color: #00af00; text-decoration-color: #00af00\">512</span>)                 │               <span style=\"color: #00af00; text-decoration-color: #00af00\">0</span> │\n",
       "├──────────────────────────────────────┼─────────────────────────────┼─────────────────┤\n",
       "│ dense_51 (<span style=\"color: #0087ff; text-decoration-color: #0087ff\">Dense</span>)                     │ (<span style=\"color: #00d7ff; text-decoration-color: #00d7ff\">None</span>, <span style=\"color: #00af00; text-decoration-color: #00af00\">5</span>)                   │           <span style=\"color: #00af00; text-decoration-color: #00af00\">2,565</span> │\n",
       "└──────────────────────────────────────┴─────────────────────────────┴─────────────────┘\n",
       "</pre>\n"
      ],
      "text/plain": [
       "┏━━━━━━━━━━━━━━━━━━━━━━━━━━━━━━━━━━━━━━┳━━━━━━━━━━━━━━━━━━━━━━━━━━━━━┳━━━━━━━━━━━━━━━━━┓\n",
       "┃\u001b[1m \u001b[0m\u001b[1mLayer (type)                        \u001b[0m\u001b[1m \u001b[0m┃\u001b[1m \u001b[0m\u001b[1mOutput Shape               \u001b[0m\u001b[1m \u001b[0m┃\u001b[1m \u001b[0m\u001b[1m        Param #\u001b[0m\u001b[1m \u001b[0m┃\n",
       "┡━━━━━━━━━━━━━━━━━━━━━━━━━━━━━━━━━━━━━━╇━━━━━━━━━━━━━━━━━━━━━━━━━━━━━╇━━━━━━━━━━━━━━━━━┩\n",
       "│ resnet50 (\u001b[38;5;33mFunctional\u001b[0m)                │ (\u001b[38;5;45mNone\u001b[0m, \u001b[38;5;34m7\u001b[0m, \u001b[38;5;34m7\u001b[0m, \u001b[38;5;34m2048\u001b[0m)          │      \u001b[38;5;34m23,587,712\u001b[0m │\n",
       "├──────────────────────────────────────┼─────────────────────────────┼─────────────────┤\n",
       "│ global_average_pooling2d_9           │ (\u001b[38;5;45mNone\u001b[0m, \u001b[38;5;34m2048\u001b[0m)                │               \u001b[38;5;34m0\u001b[0m │\n",
       "│ (\u001b[38;5;33mGlobalAveragePooling2D\u001b[0m)             │                             │                 │\n",
       "├──────────────────────────────────────┼─────────────────────────────┼─────────────────┤\n",
       "│ dense_50 (\u001b[38;5;33mDense\u001b[0m)                     │ (\u001b[38;5;45mNone\u001b[0m, \u001b[38;5;34m512\u001b[0m)                 │       \u001b[38;5;34m1,049,088\u001b[0m │\n",
       "├──────────────────────────────────────┼─────────────────────────────┼─────────────────┤\n",
       "│ dropout_25 (\u001b[38;5;33mDropout\u001b[0m)                 │ (\u001b[38;5;45mNone\u001b[0m, \u001b[38;5;34m512\u001b[0m)                 │               \u001b[38;5;34m0\u001b[0m │\n",
       "├──────────────────────────────────────┼─────────────────────────────┼─────────────────┤\n",
       "│ dense_51 (\u001b[38;5;33mDense\u001b[0m)                     │ (\u001b[38;5;45mNone\u001b[0m, \u001b[38;5;34m5\u001b[0m)                   │           \u001b[38;5;34m2,565\u001b[0m │\n",
       "└──────────────────────────────────────┴─────────────────────────────┴─────────────────┘\n"
      ]
     },
     "metadata": {},
     "output_type": "display_data"
    },
    {
     "data": {
      "text/html": [
       "<pre style=\"white-space:pre;overflow-x:auto;line-height:normal;font-family:Menlo,'DejaVu Sans Mono',consolas,'Courier New',monospace\"><span style=\"font-weight: bold\"> Total params: </span><span style=\"color: #00af00; text-decoration-color: #00af00\">24,639,365</span> (93.99 MB)\n",
       "</pre>\n"
      ],
      "text/plain": [
       "\u001b[1m Total params: \u001b[0m\u001b[38;5;34m24,639,365\u001b[0m (93.99 MB)\n"
      ]
     },
     "metadata": {},
     "output_type": "display_data"
    },
    {
     "data": {
      "text/html": [
       "<pre style=\"white-space:pre;overflow-x:auto;line-height:normal;font-family:Menlo,'DejaVu Sans Mono',consolas,'Courier New',monospace\"><span style=\"font-weight: bold\"> Trainable params: </span><span style=\"color: #00af00; text-decoration-color: #00af00\">15,501,829</span> (59.13 MB)\n",
       "</pre>\n"
      ],
      "text/plain": [
       "\u001b[1m Trainable params: \u001b[0m\u001b[38;5;34m15,501,829\u001b[0m (59.13 MB)\n"
      ]
     },
     "metadata": {},
     "output_type": "display_data"
    },
    {
     "data": {
      "text/html": [
       "<pre style=\"white-space:pre;overflow-x:auto;line-height:normal;font-family:Menlo,'DejaVu Sans Mono',consolas,'Courier New',monospace\"><span style=\"font-weight: bold\"> Non-trainable params: </span><span style=\"color: #00af00; text-decoration-color: #00af00\">9,137,536</span> (34.86 MB)\n",
       "</pre>\n"
      ],
      "text/plain": [
       "\u001b[1m Non-trainable params: \u001b[0m\u001b[38;5;34m9,137,536\u001b[0m (34.86 MB)\n"
      ]
     },
     "metadata": {},
     "output_type": "display_data"
    }
   ],
   "source": [
    "from tensorflow.keras.applications import ResNet50, VGG16, EfficientNetB0\n",
    "from tensorflow.keras.models import Sequential\n",
    "from tensorflow.keras.layers import Dense, Flatten, Dropout, GlobalAveragePooling2D\n",
    "from tensorflow.keras.regularizers import l2\n",
    "\n",
    "# 사용할 사전 학습 모델 선택 (ResNet50, VGG16, EfficientNet 등)\n",
    "base_model = ResNet50(weights='imagenet', include_top=False, input_shape=(224, 224, 3))\n",
    "# base_model = VGG16(weights='imagenet', include_top=False, input_shape=(224, 224, 3))\n",
    "# base_model = EfficientNetB0(weights='imagenet', include_top=False, input_shape=(224, 224, 3))\n",
    "\n",
    "# CNN의 마지막 몇 개 레이어만 학습 가능하게 설정 (전체는 X)\n",
    "base_model.trainable = True\n",
    "for layer in base_model.layers[:-30]:  # 마지막 30개 레이어만 학습\n",
    "    layer.trainable = False\n",
    "\n",
    "# 모델 구성\n",
    "model = Sequential([\n",
    "    base_model,\n",
    "    GlobalAveragePooling2D(),  # Flatten보다 더 좋은 일반화 성능\n",
    "    Dense(512, activation='relu', kernel_regularizer=l2(0.001)),  # L2 적용\n",
    "    Dropout(0.3),\n",
    "    Dense(5, activation='softmax')  # 5개 클래스 분류\n",
    "])\n",
    "\n",
    "# 모델 요약 정보 출력\n",
    "model.summary()"
   ]
  },
  {
   "cell_type": "code",
   "execution_count": 73,
   "metadata": {
    "executionInfo": {
     "elapsed": 1572,
     "status": "ok",
     "timestamp": 1738237064835,
     "user": {
      "displayName": "이종현",
      "userId": "11047299251951934853"
     },
     "user_tz": -540
    },
    "id": "t4RpXslV-rZ4"
   },
   "outputs": [],
   "source": [
    "from tensorflow.keras.models import Sequential\n",
    "from tensorflow.keras.layers import Dense, Flatten, Dropout, GlobalAveragePooling2D\n",
    "from tensorflow.keras.layers import Rescaling, Resizing, RandomFlip, RandomRotation, RandomZoom, BatchNormalization\n",
    "from tensorflow.keras.applications import ResNet50, VGG16, EfficientNetB0\n",
    "\n",
    "# 사전 학습된 모델 로드 (일반 CNN 모델 사용 시, Conv2D 층 직접 쌓으면 됨)\n",
    "# base_model = ResNet50(weights='imagenet', include_top=False, input_shape=(224, 224, 3))\n",
    "# base_model = EfficientNetB0(weights='imagenet', include_top=False, input_shape=(224, 224, 3))\n",
    "base_model = VGG16(weights='imagenet', include_top=False, input_shape=(224, 224, 3))\n",
    "\n",
    "base_model.trainable = False  # Feature Extractor로 사용\n",
    "\n",
    "# 모델 구성\n",
    "model = Sequential([\n",
    "    base_model,\n",
    "    GlobalAveragePooling2D(),\n",
    "\n",
    "    Dense(512, activation='relu'),\n",
    "    Dense(512, activation='relu', kernel_regularizer=tf.keras.regularizers.l2(0.01)),\n",
    "    BatchNormalization(),\n",
    "    Dropout(0.5),\n",
    "\n",
    "    Dense(512, activation='relu'),\n",
    "    Dense(512, activation='relu', kernel_regularizer=tf.keras.regularizers.l2(0.01)),\n",
    "    BatchNormalization(),\n",
    "    Dropout(0.5),\n",
    "\n",
    "    Dense(256, activation='relu'),\n",
    "    BatchNormalization(),\n",
    "    Dense(5, activation='softmax')\n",
    "])"
   ]
  },
  {
   "cell_type": "code",
   "execution_count": 74,
   "metadata": {
    "colab": {
     "base_uri": "https://localhost:8080/"
    },
    "executionInfo": {
     "elapsed": 2020,
     "status": "ok",
     "timestamp": 1738237068202,
     "user": {
      "displayName": "이종현",
      "userId": "11047299251951934853"
     },
     "user_tz": -540
    },
    "id": "sjqET6R7i6Jt",
    "outputId": "66d90eeb-ab07-4bb3-bb98-d73f30d92ed0"
   },
   "outputs": [
    {
     "name": "stdout",
     "output_type": "stream",
     "text": [
      "Train size: 8808\n",
      "Test size: 367\n",
      "Validation size: 367\n",
      "Validation steps: 12\n",
      "Image shape: (224, 224, 3), Label: 2\n",
      "Image shape: (224, 224, 3), Label: 3\n",
      "Image shape: (224, 224, 3), Label: 3\n",
      "Image shape: (224, 224, 3), Label: 4\n",
      "Image shape: (224, 224, 3), Label: 3\n"
     ]
    },
    {
     "name": "stderr",
     "output_type": "stream",
     "text": [
      "2025-01-31 15:07:10.288663: W tensorflow/core/framework/local_rendezvous.cc:404] Local rendezvous is aborting with status: OUT_OF_RANGE: End of sequence\n",
      "2025-01-31 15:07:10.343344: W tensorflow/core/framework/local_rendezvous.cc:404] Local rendezvous is aborting with status: OUT_OF_RANGE: End of sequence\n",
      "2025-01-31 15:07:10.396137: W tensorflow/core/framework/local_rendezvous.cc:404] Local rendezvous is aborting with status: OUT_OF_RANGE: End of sequence\n",
      "2025-01-31 15:07:10.438715: W tensorflow/core/framework/local_rendezvous.cc:404] Local rendezvous is aborting with status: OUT_OF_RANGE: End of sequence\n"
     ]
    }
   ],
   "source": [
    "BATCH_SIZE = 32\n",
    "SHUFFLE_BUFFER_SIZE = 1000\n",
    "\n",
    "train_size = sum(1 for _ in MODEL_TRAIN)\n",
    "test_size = sum(1 for _ in MODEL_TEST)\n",
    "validation_size = sum(1 for _ in MODEL_VALIDATION)\n",
    "validation_steps = validation_size // BATCH_SIZE\n",
    "if validation_size % BATCH_SIZE != 0:\n",
    "    validation_steps += 1  # 남은 데이터 처리\n",
    "print(f\"Train size: {train_size}\")\n",
    "print(f\"Test size: {test_size}\")\n",
    "print(f\"Validation size: {validation_size}\")\n",
    "print(f\"Validation steps: {validation_steps}\")\n",
    "\n",
    "for image, label in MODEL_TRAIN.take(5):\n",
    "    print(f\"Image shape: {image.shape}, Label: {label.numpy()}\")"
   ]
  },
  {
   "cell_type": "code",
   "execution_count": 75,
   "metadata": {
    "executionInfo": {
     "elapsed": 292,
     "status": "ok",
     "timestamp": 1738237069659,
     "user": {
      "displayName": "이종현",
      "userId": "11047299251951934853"
     },
     "user_tz": -540
    },
    "id": "pVSf0ltIa3YJ"
   },
   "outputs": [],
   "source": [
    "steps_per_epoch = train_size // BATCH_SIZE\n",
    "lr_schedule = tf.keras.optimizers.schedules.ExponentialDecay(\n",
    "    initial_learning_rate=0.001,\n",
    "    decay_steps=steps_per_epoch,\n",
    "    decay_rate=0.96,\n",
    "    staircase=True\n",
    ")\n",
    "\n",
    "model.compile(\n",
    "    optimizer=tf.keras.optimizers.Adam(learning_rate=lr_schedule),\n",
    "    loss=tf.keras.losses.SparseCategoricalCrossentropy(),\n",
    "    metrics=['accuracy']\n",
    ")"
   ]
  },
  {
   "cell_type": "code",
   "execution_count": 77,
   "metadata": {
    "executionInfo": {
     "elapsed": 392,
     "status": "ok",
     "timestamp": 1738237409929,
     "user": {
      "displayName": "이종현",
      "userId": "11047299251951934853"
     },
     "user_tz": -540
    },
    "id": "ukuFLdsSbRXi"
   },
   "outputs": [],
   "source": [
    "AUTOTUNE = tf.data.AUTOTUNE\n",
    "\n",
    "def preprocess_dataset(dataset):\n",
    "    return dataset.map(lambda x, y: (tf.image.resize(x, (224, 224)), y))\n",
    "\n",
    "train_batches = preprocess_dataset(MODEL_TRAIN) \\\n",
    "                .shuffle(SHUFFLE_BUFFER_SIZE) \\\n",
    "                .batch(BATCH_SIZE) \\\n",
    "                .prefetch(AUTOTUNE)\n",
    "\n",
    "validation_batches = preprocess_dataset(MODEL_VALIDATION) \\\n",
    "                     .batch(BATCH_SIZE) \\\n",
    "                     .prefetch(AUTOTUNE)\n",
    "\n",
    "test_batches = preprocess_dataset(MODEL_TEST) \\\n",
    "               .batch(BATCH_SIZE, drop_remainder=True) \\\n",
    "               .prefetch(AUTOTUNE)"
   ]
  },
  {
   "cell_type": "code",
   "execution_count": 36,
   "metadata": {
    "colab": {
     "base_uri": "https://localhost:8080/"
    },
    "executionInfo": {
     "elapsed": 407,
     "status": "ok",
     "timestamp": 1738237412657,
     "user": {
      "displayName": "이종현",
      "userId": "11047299251951934853"
     },
     "user_tz": -540
    },
    "id": "hUTC82WfcMmX",
    "outputId": "03b711a3-b81c-4dd1-8d5d-8addec3be7a6"
   },
   "outputs": [
    {
     "name": "stdout",
     "output_type": "stream",
     "text": [
      "Image shape: (240, 320, 3)\n",
      "Label: 4\n",
      "Image shape: (333, 500, 3)\n",
      "Label: 0\n",
      "Image shape: (333, 500, 3)\n",
      "Label: 1\n",
      "Image shape: (284, 320, 3)\n",
      "Label: 3\n",
      "Image shape: (333, 500, 3)\n",
      "Label: 0\n"
     ]
    },
    {
     "name": "stderr",
     "output_type": "stream",
     "text": [
      "2025-01-31 14:46:12.475985: W tensorflow/core/framework/local_rendezvous.cc:404] Local rendezvous is aborting with status: OUT_OF_RANGE: End of sequence\n"
     ]
    }
   ],
   "source": [
    "# 검증 데이터셋 샘플 확인\n",
    "for image, label in MODEL_VALIDATION.take(5):\n",
    "    print(\"Image shape:\", image.shape)\n",
    "    print(\"Label:\", label.numpy())"
   ]
  },
  {
   "cell_type": "code",
   "execution_count": 37,
   "metadata": {
    "colab": {
     "base_uri": "https://localhost:8080/"
    },
    "executionInfo": {
     "elapsed": 271,
     "status": "ok",
     "timestamp": 1738237414227,
     "user": {
      "displayName": "이종현",
      "userId": "11047299251951934853"
     },
     "user_tz": -540
    },
    "id": "Z1fVhVX1cVra",
    "outputId": "ebba2f16-5595-4fad-d853-63c6aa89554e"
   },
   "outputs": [
    {
     "name": "stdout",
     "output_type": "stream",
     "text": [
      "Unique labels in validation set: {0, 1, 2, 3, 4}\n"
     ]
    },
    {
     "name": "stderr",
     "output_type": "stream",
     "text": [
      "2025-01-31 14:46:14.331706: W tensorflow/core/framework/local_rendezvous.cc:404] Local rendezvous is aborting with status: OUT_OF_RANGE: End of sequence\n"
     ]
    }
   ],
   "source": [
    "unique_labels = set()\n",
    "for _, label in MODEL_VALIDATION.take(100):  # 100개의 라벨만 확인\n",
    "    unique_labels.add(label.numpy())\n",
    "print(\"Unique labels in validation set:\", unique_labels)"
   ]
  },
  {
   "cell_type": "code",
   "execution_count": 38,
   "metadata": {
    "colab": {
     "base_uri": "https://localhost:8080/"
    },
    "collapsed": true,
    "executionInfo": {
     "elapsed": 4253,
     "status": "ok",
     "timestamp": 1738237420409,
     "user": {
      "displayName": "이종현",
      "userId": "11047299251951934853"
     },
     "user_tz": -540
    },
    "id": "MddgAyz4cZt5",
    "outputId": "a74967d5-a4fb-40e2-d7ea-ed6f342d4e91"
   },
   "outputs": [
    {
     "name": "stdout",
     "output_type": "stream",
     "text": [
      "\u001b[1m18/18\u001b[0m \u001b[32m━━━━━━━━━━━━━━━━━━━━\u001b[0m\u001b[37m\u001b[0m \u001b[1m3s\u001b[0m 148ms/step - accuracy: 0.1862 - loss: 15.6205\n",
      "Initial loss: 15.19\n",
      "Initial accuracy: 0.18\n"
     ]
    }
   ],
   "source": [
    "# 모델 평가\n",
    "loss0, accuracy0 = model.evaluate(validation_batches, steps=validation_steps)\n",
    "print(\"Initial loss: {:.2f}\".format(loss0))\n",
    "print(\"Initial accuracy: {:.2f}\".format(accuracy0))"
   ]
  },
  {
   "cell_type": "code",
   "execution_count": 78,
   "metadata": {
    "executionInfo": {
     "elapsed": 284,
     "status": "ok",
     "timestamp": 1738237425018,
     "user": {
      "displayName": "이종현",
      "userId": "11047299251951934853"
     },
     "user_tz": -540
    },
    "id": "IThXYU5stbix"
   },
   "outputs": [],
   "source": [
    "early_stopping = EarlyStopping(monitor='val_loss', patience=5, restore_best_weights=True)"
   ]
  },
  {
   "cell_type": "code",
   "execution_count": 79,
   "metadata": {
    "colab": {
     "base_uri": "https://localhost:8080/"
    },
    "id": "L9-jQllOcdFV",
    "outputId": "da6d8537-22d1-4c3b-86c5-7db03f8dbce4"
   },
   "outputs": [
    {
     "name": "stdout",
     "output_type": "stream",
     "text": [
      "Epoch 1/20\n",
      "\u001b[1m276/276\u001b[0m \u001b[32m━━━━━━━━━━━━━━━━━━━━\u001b[0m\u001b[37m\u001b[0m \u001b[1m51s\u001b[0m 176ms/step - accuracy: 0.6882 - loss: 5.8312 - val_accuracy: 0.6975 - val_loss: 1.0427\n",
      "Epoch 2/20\n",
      "\u001b[1m276/276\u001b[0m \u001b[32m━━━━━━━━━━━━━━━━━━━━\u001b[0m\u001b[37m\u001b[0m \u001b[1m47s\u001b[0m 171ms/step - accuracy: 0.7828 - loss: 0.8129 - val_accuracy: 0.7112 - val_loss: 0.9550\n",
      "Epoch 3/20\n",
      "\u001b[1m276/276\u001b[0m \u001b[32m━━━━━━━━━━━━━━━━━━━━\u001b[0m\u001b[37m\u001b[0m \u001b[1m47s\u001b[0m 172ms/step - accuracy: 0.7983 - loss: 0.7140 - val_accuracy: 0.7875 - val_loss: 0.6315\n",
      "Epoch 4/20\n",
      "\u001b[1m276/276\u001b[0m \u001b[32m━━━━━━━━━━━━━━━━━━━━\u001b[0m\u001b[37m\u001b[0m \u001b[1m47s\u001b[0m 170ms/step - accuracy: 0.8067 - loss: 0.6684 - val_accuracy: 0.8501 - val_loss: 0.5790\n",
      "Epoch 5/20\n",
      "\u001b[1m276/276\u001b[0m \u001b[32m━━━━━━━━━━━━━━━━━━━━\u001b[0m\u001b[37m\u001b[0m \u001b[1m47s\u001b[0m 171ms/step - accuracy: 0.8150 - loss: 0.6278 - val_accuracy: 0.7984 - val_loss: 0.6471\n",
      "Epoch 6/20\n",
      "\u001b[1m276/276\u001b[0m \u001b[32m━━━━━━━━━━━━━━━━━━━━\u001b[0m\u001b[37m\u001b[0m \u001b[1m47s\u001b[0m 169ms/step - accuracy: 0.8258 - loss: 0.5947 - val_accuracy: 0.8311 - val_loss: 0.5784\n",
      "Epoch 7/20\n",
      "\u001b[1m276/276\u001b[0m \u001b[32m━━━━━━━━━━━━━━━━━━━━\u001b[0m\u001b[37m\u001b[0m \u001b[1m47s\u001b[0m 169ms/step - accuracy: 0.8337 - loss: 0.5940 - val_accuracy: 0.8501 - val_loss: 0.5393\n",
      "Epoch 8/20\n",
      "\u001b[1m276/276\u001b[0m \u001b[32m━━━━━━━━━━━━━━━━━━━━\u001b[0m\u001b[37m\u001b[0m \u001b[1m47s\u001b[0m 169ms/step - accuracy: 0.8314 - loss: 0.5989 - val_accuracy: 0.8256 - val_loss: 0.5759\n",
      "Epoch 9/20\n",
      "\u001b[1m276/276\u001b[0m \u001b[32m━━━━━━━━━━━━━━━━━━━━\u001b[0m\u001b[37m\u001b[0m \u001b[1m47s\u001b[0m 169ms/step - accuracy: 0.8436 - loss: 0.5677 - val_accuracy: 0.8501 - val_loss: 0.5186\n",
      "Epoch 10/20\n",
      "\u001b[1m276/276\u001b[0m \u001b[32m━━━━━━━━━━━━━━━━━━━━\u001b[0m\u001b[37m\u001b[0m \u001b[1m47s\u001b[0m 169ms/step - accuracy: 0.8467 - loss: 0.5680 - val_accuracy: 0.8174 - val_loss: 0.5697\n",
      "Epoch 11/20\n",
      "\u001b[1m276/276\u001b[0m \u001b[32m━━━━━━━━━━━━━━━━━━━━\u001b[0m\u001b[37m\u001b[0m \u001b[1m47s\u001b[0m 171ms/step - accuracy: 0.8376 - loss: 0.5877 - val_accuracy: 0.8147 - val_loss: 0.6122\n",
      "Epoch 12/20\n",
      "\u001b[1m276/276\u001b[0m \u001b[32m━━━━━━━━━━━━━━━━━━━━\u001b[0m\u001b[37m\u001b[0m \u001b[1m47s\u001b[0m 170ms/step - accuracy: 0.8393 - loss: 0.5666 - val_accuracy: 0.8093 - val_loss: 0.5900\n",
      "Epoch 13/20\n",
      "\u001b[1m276/276\u001b[0m \u001b[32m━━━━━━━━━━━━━━━━━━━━\u001b[0m\u001b[37m\u001b[0m \u001b[1m47s\u001b[0m 170ms/step - accuracy: 0.8398 - loss: 0.5763 - val_accuracy: 0.8229 - val_loss: 0.6230\n",
      "Epoch 14/20\n",
      "\u001b[1m276/276\u001b[0m \u001b[32m━━━━━━━━━━━━━━━━━━━━\u001b[0m\u001b[37m\u001b[0m \u001b[1m47s\u001b[0m 171ms/step - accuracy: 0.8438 - loss: 0.5538 - val_accuracy: 0.8311 - val_loss: 0.5602\n"
     ]
    }
   ],
   "source": [
    "EPOCHS = 20\n",
    "history = model.fit(\n",
    "    train_batches,\n",
    "    epochs=EPOCHS,\n",
    "    validation_data=validation_batches,\n",
    "    callbacks=[early_stopping]\n",
    ")"
   ]
  },
  {
   "cell_type": "code",
   "execution_count": 81,
   "metadata": {
    "colab": {
     "base_uri": "https://localhost:8080/",
     "height": 698
    },
    "executionInfo": {
     "elapsed": 1396,
     "status": "ok",
     "timestamp": 1738233661080,
     "user": {
      "displayName": "이종현",
      "userId": "11047299251951934853"
     },
     "user_tz": -540
    },
    "id": "6MEbCShSkq9i",
    "outputId": "2d407f41-c61d-4510-83c4-f42d77dff074"
   },
   "outputs": [
    {
     "data": {
      "image/png": "[encoded data removed]",
      "text/plain": [
       "<Figure size 1200x800 with 2 Axes>"
      ]
     },
     "metadata": {},
     "output_type": "display_data"
    }
   ],
   "source": [
    "import matplotlib.pyplot as plt\n",
    "\n",
    "acc = history.history['accuracy']\n",
    "val_acc = history.history['val_accuracy']\n",
    "\n",
    "loss=history.history['loss']\n",
    "val_loss=history.history['val_loss']\n",
    "\n",
    "epochs_range = range(14)\n",
    "\n",
    "plt.figure(figsize=(12, 8))\n",
    "plt.subplot(1, 2, 1)\n",
    "plt.plot(epochs_range, acc, label='Training Accuracy')\n",
    "plt.plot(epochs_range, val_acc, label='Validation Accuracy')\n",
    "plt.legend()\n",
    "plt.title('Training and Validation Accuracy')\n",
    "\n",
    "plt.subplot(1, 2, 2)\n",
    "plt.plot(epochs_range, loss, label='Training Loss')\n",
    "plt.plot(epochs_range, val_loss, label='Validation Loss')\n",
    "plt.legend()\n",
    "plt.title('Training and Validation Loss')\n",
    "plt.show()"
   ]
  },
  {
   "cell_type": "code",
   "execution_count": 241,
   "metadata": {
    "colab": {
     "base_uri": "https://localhost:8080/",
     "height": 1000,
     "output_embedded_package_id": "194tKtKxJLekGFL-V6LNo1wp5Pun5MGL3"
    },
    "executionInfo": {
     "elapsed": 12126,
     "status": "ok",
     "timestamp": 1738231205337,
     "user": {
      "displayName": "이종현",
      "userId": "11047299251951934853"
     },
     "user_tz": -540
    },
    "id": "ldx4yr3PWrfE",
    "outputId": "f5b2946f-f464-4438-c439-6d5d238edb49"
   },
   "outputs": [
    {
     "data": {
      "text/plain": [
       "Output hidden; open in https://colab.research.google.com to view."
      ]
     },
     "metadata": {},
     "output_type": "display_data"
    }
   ],
   "source": [
    "# 모델 예측\n",
    "import numpy as np\n",
    "\n",
    "# 배치에서 샘플 이미지 가져오기\n",
    "image_batch, label_batch = next(iter(test_batches))\n",
    "\n",
    "# 예측 수행\n",
    "predictions = model.predict(image_batch)\n",
    "predicted_labels = np.argmax(predictions, axis=1)  # 확률값이 가장 높은 클래스 선택\n",
    "true_labels = label_batch.numpy()\n",
    "\n",
    "# 이미지 시각화\n",
    "plt.figure(figsize=(20, 12))\n",
    "\n",
    "for idx, (image, label, prediction) in enumerate(zip(image_batch, true_labels, predicted_labels)):\n",
    "    plt.subplot(4, 8, idx+1)\n",
    "    image = (image + 1) / 2  # 정규화 해제\n",
    "    plt.imshow(image)\n",
    "    correct = label == prediction\n",
    "    title = f'real: {label} / pred :{prediction}\\n {correct}!'\n",
    "\n",
    "    if not correct:\n",
    "        plt.title(title, fontdict={'color': 'red'})\n",
    "    else:\n",
    "        plt.title(title, fontdict={'color': 'blue'})\n",
    "    plt.axis('off')\n",
    "\n",
    "plt.show()\n",
    "\n",
    "# 정확도 계산\n",
    "correct_count = np.sum(true_labels == predicted_labels)\n",
    "total_samples = len(true_labels)\n",
    "\n",
    "print(f\"정확도: {correct_count / total_samples * 100:.2f}%\")\n",
    "print(f\"정확도 (배치 기준, 32개 샘플 중): {correct_count / 32 * 100:.2f}%\")"
   ]
  },
  {
   "cell_type": "code",
   "execution_count": 257,
   "metadata": {
    "colab": {
     "base_uri": "https://localhost:8080/"
    },
    "executionInfo": {
     "elapsed": 2867,
     "status": "ok",
     "timestamp": 1738232295106,
     "user": {
      "displayName": "이종현",
      "userId": "11047299251951934853"
     },
     "user_tz": -540
    },
    "id": "nYZPjkl3lMxX",
    "outputId": "2e841ef8-f455-4150-e7bc-d908f3dfd648"
   },
   "outputs": [
    {
     "name": "stdout",
     "output_type": "stream",
     "text": [
      "\u001b[1m22/22\u001b[0m \u001b[32m━━━━━━━━━━━━━━━━━━━━\u001b[0m\u001b[37m\u001b[0m \u001b[1m2s\u001b[0m 78ms/step - accuracy: 0.4923 - loss: 1.3587\n",
      "✅ 전체 테스트 데이터셋 정확도: 48.58%\n",
      "✅ 전체 테스트 데이터셋 손실값: 1.3554\n"
     ]
    }
   ],
   "source": [
    "# 전체 테스트 데이터셋 평가\n",
    "test_loss, test_accuracy = model.evaluate(test_batches)\n",
    "\n",
    "print(f\"✅ 전체 테스트 데이터셋 정확도: {test_accuracy * 100:.2f}%\")\n",
    "print(f\"✅ 전체 테스트 데이터셋 손실값: {test_loss:.4f}\")"
   ]
  },
  {
   "cell_type": "code",
   "execution_count": 243,
   "metadata": {
    "colab": {
     "base_uri": "https://localhost:8080/"
    },
    "executionInfo": {
     "elapsed": 25,
     "status": "ok",
     "timestamp": 1738231205337,
     "user": {
      "displayName": "이종현",
      "userId": "11047299251951934853"
     },
     "user_tz": -540
    },
    "id": "8GaNe0ZtllKX",
    "outputId": "02e9ea68-6e34-435a-bbc8-dc99da3ec55b"
   },
   "outputs": [
    {
     "name": "stdout",
     "output_type": "stream",
     "text": [
      "\u001b[1m22/22\u001b[0m \u001b[32m━━━━━━━━━━━━━━━━━━━━\u001b[0m\u001b[37m\u001b[0m \u001b[1m1s\u001b[0m 45ms/step - accuracy: 0.6875 - loss: 0.8670\n",
      "✅ 전체 테스트 데이터셋 정확도: 70.60%\n",
      "\u001b[1m1/1\u001b[0m \u001b[32m━━━━━━━━━━━━━━━━━━━━\u001b[0m\u001b[37m\u001b[0m \u001b[1m0s\u001b[0m 66ms/step\n",
      "\u001b[1m1/1\u001b[0m \u001b[32m━━━━━━━━━━━━━━━━━━━━\u001b[0m\u001b[37m\u001b[0m \u001b[1m0s\u001b[0m 63ms/step\n",
      "\u001b[1m1/1\u001b[0m \u001b[32m━━━━━━━━━━━━━━━━━━━━\u001b[0m\u001b[37m\u001b[0m \u001b[1m0s\u001b[0m 63ms/step\n",
      "\u001b[1m1/1\u001b[0m \u001b[32m━━━━━━━━━━━━━━━━━━━━\u001b[0m\u001b[37m\u001b[0m \u001b[1m0s\u001b[0m 68ms/step\n",
      "\u001b[1m1/1\u001b[0m \u001b[32m━━━━━━━━━━━━━━━━━━━━\u001b[0m\u001b[37m\u001b[0m \u001b[1m0s\u001b[0m 71ms/step\n",
      "\u001b[1m1/1\u001b[0m \u001b[32m━━━━━━━━━━━━━━━━━━━━\u001b[0m\u001b[37m\u001b[0m \u001b[1m0s\u001b[0m 81ms/step\n",
      "\u001b[1m1/1\u001b[0m \u001b[32m━━━━━━━━━━━━━━━━━━━━\u001b[0m\u001b[37m\u001b[0m \u001b[1m0s\u001b[0m 68ms/step\n",
      "\u001b[1m1/1\u001b[0m \u001b[32m━━━━━━━━━━━━━━━━━━━━\u001b[0m\u001b[37m\u001b[0m \u001b[1m0s\u001b[0m 73ms/step\n",
      "\u001b[1m1/1\u001b[0m \u001b[32m━━━━━━━━━━━━━━━━━━━━\u001b[0m\u001b[37m\u001b[0m \u001b[1m0s\u001b[0m 67ms/step\n",
      "\u001b[1m1/1\u001b[0m \u001b[32m━━━━━━━━━━━━━━━━━━━━\u001b[0m\u001b[37m\u001b[0m \u001b[1m0s\u001b[0m 69ms/step\n",
      "\u001b[1m1/1\u001b[0m \u001b[32m━━━━━━━━━━━━━━━━━━━━\u001b[0m\u001b[37m\u001b[0m \u001b[1m0s\u001b[0m 73ms/step\n",
      "\u001b[1m1/1\u001b[0m \u001b[32m━━━━━━━━━━━━━━━━━━━━\u001b[0m\u001b[37m\u001b[0m \u001b[1m0s\u001b[0m 72ms/step\n",
      "\u001b[1m1/1\u001b[0m \u001b[32m━━━━━━━━━━━━━━━━━━━━\u001b[0m\u001b[37m\u001b[0m \u001b[1m0s\u001b[0m 78ms/step\n",
      "\u001b[1m1/1\u001b[0m \u001b[32m━━━━━━━━━━━━━━━━━━━━\u001b[0m\u001b[37m\u001b[0m \u001b[1m0s\u001b[0m 68ms/step\n",
      "\u001b[1m1/1\u001b[0m \u001b[32m━━━━━━━━━━━━━━━━━━━━\u001b[0m\u001b[37m\u001b[0m \u001b[1m0s\u001b[0m 69ms/step\n",
      "\u001b[1m1/1\u001b[0m \u001b[32m━━━━━━━━━━━━━━━━━━━━\u001b[0m\u001b[37m\u001b[0m \u001b[1m0s\u001b[0m 56ms/step\n",
      "\u001b[1m1/1\u001b[0m \u001b[32m━━━━━━━━━━━━━━━━━━━━\u001b[0m\u001b[37m\u001b[0m \u001b[1m0s\u001b[0m 53ms/step\n",
      "\u001b[1m1/1\u001b[0m \u001b[32m━━━━━━━━━━━━━━━━━━━━\u001b[0m\u001b[37m\u001b[0m \u001b[1m0s\u001b[0m 53ms/step\n",
      "\u001b[1m1/1\u001b[0m \u001b[32m━━━━━━━━━━━━━━━━━━━━\u001b[0m\u001b[37m\u001b[0m \u001b[1m0s\u001b[0m 53ms/step\n",
      "\u001b[1m1/1\u001b[0m \u001b[32m━━━━━━━━━━━━━━━━━━━━\u001b[0m\u001b[37m\u001b[0m \u001b[1m0s\u001b[0m 55ms/step\n",
      "\u001b[1m1/1\u001b[0m \u001b[32m━━━━━━━━━━━━━━━━━━━━\u001b[0m\u001b[37m\u001b[0m \u001b[1m0s\u001b[0m 58ms/step\n",
      "\u001b[1m1/1\u001b[0m \u001b[32m━━━━━━━━━━━━━━━━━━━━\u001b[0m\u001b[37m\u001b[0m \u001b[1m0s\u001b[0m 54ms/step\n",
      "✅ 테스트 데이터셋 전체 정확도(직접 계산): 70.60%\n",
      "              precision    recall  f1-score   support\n",
      "\n",
      "     Class 0       0.75      0.75      0.75       150\n",
      "     Class 1       0.71      0.77      0.74       116\n",
      "     Class 2       0.71      0.56      0.63       181\n",
      "     Class 3       0.80      0.88      0.84       129\n",
      "     Class 4       0.56      0.62      0.59       128\n",
      "\n",
      "    accuracy                           0.71       704\n",
      "   macro avg       0.71      0.72      0.71       704\n",
      "weighted avg       0.71      0.71      0.70       704\n",
      "\n"
     ]
    }
   ],
   "source": [
    "# 전체 테스트 정확도 출력\n",
    "test_loss, test_accuracy = model.evaluate(test_batches)\n",
    "print(f\"✅ 전체 테스트 데이터셋 정확도: {test_accuracy * 100:.2f}%\")\n",
    "\n",
    "# 개별 샘플 예측 후 정확도 계산\n",
    "all_predictions = []\n",
    "all_labels = []\n",
    "\n",
    "for image_batch, label_batch in test_batches:\n",
    "    batch_predictions = model.predict(image_batch)\n",
    "    predicted_labels = np.argmax(batch_predictions, axis=1)\n",
    "\n",
    "    all_predictions.extend(predicted_labels)\n",
    "    all_labels.extend(label_batch.numpy())\n",
    "\n",
    "# 정확도 계산\n",
    "correct_predictions = np.sum(np.array(all_labels) == np.array(all_predictions))\n",
    "total_samples = len(all_labels)\n",
    "\n",
    "print(f\"✅ 테스트 데이터셋 전체 정확도(직접 계산): {correct_predictions / total_samples * 100:.2f}%\")\n",
    "\n",
    "# 클래스별 평가 출력\n",
    "from sklearn.metrics import classification_report\n",
    "print(classification_report(all_labels, all_predictions, target_names=[f\"Class {i}\" for i in range(5)]))"
   ]
  }
 ],
 "metadata": {
  "accelerator": "GPU",
  "colab": {
   "authorship_tag": "ABX9TyNV990T3A+vj/BKQBtCr1rk",
   "gpuType": "T4",
   "provenance": []
  },
  "kernelspec": {
   "display_name": "Python 3",
   "name": "python3"
  },
  "language_info": {
   "codemirror_mode": {
    "name": "ipython",
    "version": 3
   },
   "file_extension": ".py",
   "mimetype": "text/x-python",
   "name": "python",
   "nbconvert_exporter": "python",
   "pygments_lexer": "ipython3",
   "version": "3.11.5"
  }
 },
 "nbformat": 4,
 "nbformat_minor": 0
}
